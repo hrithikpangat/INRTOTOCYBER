{
  "nbformat": 4,
  "nbformat_minor": 0,
  "metadata": {
    "colab": {
      "provenance": [],
      "authorship_tag": "ABX9TyO+4BEV4pvZzN8/qEFlUIlR",
      "include_colab_link": true
    },
    "kernelspec": {
      "name": "python3",
      "display_name": "Python 3"
    },
    "language_info": {
      "name": "python"
    }
  },
  "cells": [
    {
      "cell_type": "markdown",
      "metadata": {
        "id": "view-in-github",
        "colab_type": "text"
      },
      "source": [
        "<a href=\"https://colab.research.google.com/github/hrithikpangat/INRTOTOCYBER/blob/main/REPORT(1_5_24).ipynb\" target=\"_parent\"><img src=\"https://colab.research.google.com/assets/colab-badge.svg\" alt=\"Open In Colab\"/></a>"
      ]
    },
    {
      "cell_type": "markdown",
      "source": [
        "# **INTRODUCTION**\n",
        "\n",
        "In this digital era there are enormous amount of data is being generated in a day by organizations or others. Which these data contains so much personal contents like social number, credit card credentials  or personal mobile number etc . So protecting these data is one of the top priorty for the organizations and others. There are several methods to secure the data the most used common way is Encryption. Encryption is a process of protecting a data by using mathematical models to scramble it in a way such that both parties must have the unique key to unscramble the data. The key must be unique. There are two types of encryption **Symmetric encryption and Asymmetric encryption.**\n",
        "\n",
        "Symmetric encryption is one of the types of encryption. Symmetric encryption\n",
        "is also known as shared key or private key algorithm which uses the same key for encryption and also for the decryption of the data. **AES(Advanced Encryption Standard) and DES(Data Encryption Standard) are two examples of symmetric encryption.** Asymmetric encrption are type of encryption which uses two keys for encryption and decryption. Which one key would be public anyone can use it to encrypt the data but only the holders of the private key can decrypt the message. **RSA and ECC(Elliptic Curve Cryptography)** are the two examples of asymmetric encryption. In this report we are going through all these methods, hash function and the **SHA-256(Secure Hash Algorithm).**"
      ],
      "metadata": {
        "id": "MjnLSqLBquim"
      }
    },
    {
      "cell_type": "markdown",
      "source": [
        "# **SYMMETRIC ENCRYPTION**\n",
        "\n",
        "Symmetric encryption protects data by encrypting the plain text into a ciphertext by a private key and the same key is used for decrypting the data. The sender and recipent should share the key in order to encrypt and decrypt the data. Symmetric encryption is relatively inexpensive. There are several algorithms **under** symmerteic encryption, most common algorithms are **AES AND DES.**\n",
        "\n",
        "###1. AES (ADVANCED ENCRYPTION METHOD)\n",
        "\n",
        "AES is a block cipher chosen by U.S.government to protect classified data. AES is implemented in both software and hardware  throughout the world to encrypt the sensitive data. It is essential for data security. AES puts data through multiple ecrcyption rounds and splits the data into smaller blocks of 128-bits . It is more sceure than older symmetric methods.\n",
        "\n",
        "\n",
        "###AES ENCRYPTION\n",
        "AES encryption methods is as follows,\n",
        "\n",
        "**1. Data Prepration:** The data is divided in to 16-byte blocks (128-bits)\n",
        "\n",
        "**2. Key Expansion:**  The AES key is expanded into a series of round keys used in each round of encryption.\n",
        "\n",
        "**3. Adding Round Key:** The fist round key is XORed with inital data block.\n",
        "\n",
        "**4. Byte Substitution:** Each byte in the block is substituted with a different byte using a pre-defined S-box, which provides diffusion.\n",
        "\n",
        "**5. Shift Rows:** The rows of the block are circularly shifted by different offsets, further mixing the data.\n",
        "\n",
        "**6. Mix Colums:** Each column of the block is transformed using a specific mix column operation, enhancing diffusion.\n",
        "\n",
        "**7.Adding Round Keys:** A new round key is XORed with the block after each round of substitutions, shifts, and mix columns.\n",
        "\n",
        "**8.Rounds:**  Steps 4-7 are repeated for a set number of rounds (10, 12, or 14) depending on the key length\n",
        "\n",
        "\n",
        "###DECRYPTION\n",
        "\n",
        "Decryption is the reverse process of the encryption, using the same key but with different rounds keys in inverse order. Each step is reversed like all the encryption steps is undoing.\n",
        "\n",
        "\n",
        "###IMPLEMENTATION\n",
        "\n",
        "Implementation is done by using python\n",
        "\n",
        "\n",
        "\n",
        "\n",
        "\n",
        "\n",
        "\n",
        "\n",
        "\n",
        "\n",
        "\n",
        "\n",
        "\n",
        "\n",
        "\n",
        "\n",
        "\n",
        "\n",
        "\n"
      ],
      "metadata": {
        "id": "twtdwg2k6cUf"
      }
    },
    {
      "cell_type": "code",
      "source": [
        "from Crypto.Cipher import AES\n",
        "from Crypto.Random import get_random_bytes\n",
        "from Crypto.Util.Padding import pad, unpad\n",
        "\n",
        "def aes_encrypt(message, key):\n",
        "    cipher = AES.new(key, AES.MODE_CBC)\n",
        "    ct_bytes = cipher.encrypt(pad(message.encode(), AES.block_size))\n",
        "    iv = cipher.iv\n",
        "    return ct_bytes, iv\n",
        "\n",
        "def aes_decrypt(ct_bytes, iv, key):\n",
        "    cipher = AES.new(key, AES.MODE_CBC, iv)\n",
        "    pt = unpad(cipher.decrypt(ct_bytes), AES.block_size)\n",
        "    return pt.decode()\n",
        "\n",
        "def main():\n",
        "    key = get_random_bytes(16)\n",
        "    message = \"Hello, AES Encryption!\"\n",
        "\n",
        "    ciphertext, iv = aes_encrypt(message, key)\n",
        "    print(\"Ciphertext:\", ciphertext)\n",
        "    print(\"IV:\", iv)\n",
        "\n",
        "    decrypted_message = aes_decrypt(ciphertext, iv, key)\n",
        "    print(\"Decrypted message:\", decrypted_message)\n",
        "\n",
        "if __name__ == \"__main__\":\n",
        "    main()\n"
      ],
      "metadata": {
        "colab": {
          "base_uri": "https://localhost:8080/"
        },
        "id": "8Nr-7PS6nJpJ",
        "outputId": "8a52b18d-9c57-40eb-c51b-638211702038"
      },
      "execution_count": null,
      "outputs": [
        {
          "output_type": "stream",
          "name": "stdout",
          "text": [
            "Ciphertext: b'\\xcar@\\xe3\\x98\\x8dF\\xbf\\x93\\xfc\\x85-\\x17\\x91\\xf0\\xb0;\\x1c,\\xd3\\x17\\x84\\xe2\\xee%\\xcd\\xd7\\x13\\xeeW\\xdeP'\n",
            "IV: b'9\\xd8\\xc6a}\\xc4\\xb5\\xdb\\x92\\x13\\xfb\\xd2\\x83\\xa5\\xd8\\xdb'\n",
            "Decrypted message: Hello, AES Encryption!\n"
          ]
        }
      ]
    },
    {
      "cell_type": "markdown",
      "source": [
        "##2.DES (DATA ENCRYPTION STANDARD)\n",
        "\n",
        "The Data Encryption Standard is a symmetric-key block cipher published by NIST. DES is implemented using Feistel cipher. It uses 16 round Feistel sturcture. The block size of an DES is 64-bit and have a effective key length of 56-bits. Though it have 64 bits key, 8-bit keys are not used in encryption algorithm. DES have been used for many years, yet now it consdiered as insecure due to its key size\n",
        "\n",
        "###DES ENCRYPTION\n",
        "\n",
        "**1. Initial Permutation(IP):** The 64-bits undergo initial permutation for rearanging the bits.\n",
        "\n",
        "**2. Splitting:** The data that is permuated is divided in to equal halves of 32 bits (Left and Right)\n",
        "\n",
        "**3. Rounds:** Around 16 rounds of operations are perfomed on the data.\n",
        "\n",
        "**4. Expansion:** The right half is expanded to 48-bits.\n",
        "\n",
        "**5. Key Mixing:** The expanded right half is XORed with a subkey which is derived from the main key.\n",
        "\n",
        "**6. Substitution (S-box):** The result is further processed through eight S-boxes, which substitute specific 6-bit chunks with different 4-bit values.\n",
        "\n",
        "**7. Permutation (P-box):** The output from S-box undergo permutation for further scatter the data.\n",
        "\n",
        "**8. Combining:** The processed right half is XORed with the left half, and the left half becomes the new right half. The right half becomes the new left half for the next round.\n",
        "\n",
        "**9. Final Permutaion:** The final 32-bit left and right halves are swapped and combined, followed by an inverse initial permutation, resulting in the 64-bit ciphertext.\n",
        "\n",
        "\n",
        "###DECRYPTION\n",
        "\n",
        "Decryption is same as the structure of the encryption but in reverse order the keys are applied. And this allows us to get the plaintext from the ciphertext.\n",
        "\n",
        "\n",
        "###IMPLEMENTATION\n",
        "\n",
        "It is implemented using python\n",
        "\n",
        "\n",
        "\n"
      ],
      "metadata": {
        "id": "cpLARFEGnwiL"
      }
    },
    {
      "cell_type": "code",
      "source": [
        "from Crypto.Cipher import DES\n",
        "\n",
        "message = \"This is a message\".encode('utf-8')\n",
        "key = b\"your_key\"\n",
        "cipher = DES.new(key, DES.MODE_ECB)\n",
        "\n",
        "padded_message = pad(message, DES.block_size)\n",
        "\n",
        "ciphertext = cipher.encrypt(padded_message)\n",
        "\n",
        "decipher = DES.new(key, DES.MODE_ECB)\n",
        "decrypted_message = unpad(decipher.decrypt(ciphertext), DES.block_size)\n",
        "\n",
        "print(\"Original message:\", message.decode())\n",
        "print(\"Encrypted message:\", ciphertext.hex())\n",
        "print(\"Decrypted message:\", decrypted_message.decode())\n"
      ],
      "metadata": {
        "colab": {
          "base_uri": "https://localhost:8080/"
        },
        "id": "O_V-LUEl3wO8",
        "outputId": "f3fab4fb-2912-474e-b483-a7e7079415c1"
      },
      "execution_count": null,
      "outputs": [
        {
          "output_type": "stream",
          "name": "stdout",
          "text": [
            "Original message: This is a message\n",
            "Encrypted message: 2c49b9a4bc3dba3636a6c058a9a7e2e59250e7e3f272eb07\n",
            "Decrypted message: This is a message\n"
          ]
        }
      ]
    },
    {
      "cell_type": "markdown",
      "source": [
        "#ASYMMETRIC ENCRYPTION\n",
        "Asymmetric enccryption also known as public cryptography, is a type of encryption that uses key pairs for both encryption and decryption.In asymmetric encryption, the sender uses the recipient’s public key to encrypt the data. The recipient then uses their private key to decrypt the data. This approach allows for secure communication between two parties without the need for both parties to have the same secret key. The key pairs contains a public key which can be used by anyone and a private key which can accessed only by the owner. Examples of asymmetric encryptions are **RSA** and **ECC (Elliptic Curve Cryptography)**.\n",
        "\n",
        "\n",
        "##RSA (Rivest-Shamir-Adleman)\n",
        "\n",
        "RSA (Rivest-Shamir-Adleman) is a public-key cryptographic algorithm used for secure data transmission. It is widely used for secure communication, digital signatures, and encryption of sensitive data. The algorithm relies on the mathematical properties of prime numbers and modular arithmetic.\n",
        "\n",
        "\n",
        "###How RSA Works?\n",
        "###Key Generation\n",
        "\n",
        "**1.** Two disticint prime numbers (p,q) are selected by the recipent secretly . Their size determines the strength of the encryption.\n",
        "\n",
        "**2.** The public key (n) is calculated by multiplying these prime numbers: n = p * q.\n",
        "\n",
        "**3.** Compute φ(n) = (p-1)(q-1), where φ is Euler's totient function.\n",
        "\n",
        "**4.** Choose an integer e such that 1 < e < φ(n) and gcd(e, φ(n)) = 1.\n",
        "\n",
        "**5.** Compute d, the modular multiplicative inverse of e modulo φ(n), i.e., d ≡ e^(-1) mod φ(n).\n",
        "\n",
        "**6.** Public key is (n, e), and private key is (d, n).\n",
        "\n",
        "\n",
        "###ENCRYPTION\n",
        "\n",
        "**1. Message Prepration:** The message (m) which is to be encrypted is converted in to numerical format which should be compatible with the key size.\n",
        "\n",
        "**2. Encryption Function:** The data or message is encrypted using the public ey(n,e) by modular exponentiation which is : ciphertext = m^e mod n.\n",
        "\n",
        "\n",
        "###DECRYPTION\n",
        "\n",
        "**1. Decryption Function:** To decrypt the ciphertext the recipent must use their private key (d). plaintext = ciphertext^d mod n.\n",
        "\n",
        "**2. Modular Arithmetic:** With the mathematical properties of modualr arithmetic, the decryption process reverses encryption. Recovering the plaintext or original message(m).\n",
        "\n",
        "\n",
        "###Implementing the RSA\n",
        "\n",
        "\n",
        "\n",
        "\n",
        "\n",
        "\n",
        "\n"
      ],
      "metadata": {
        "id": "XLz__4A64FBC"
      }
    },
    {
      "cell_type": "code",
      "source": [
        "import random\n",
        "import math\n",
        "\n",
        "def gcd(a, b):\n",
        "    while b != 0:\n",
        "        a, b = b, a % b\n",
        "    return a\n",
        "\n",
        "def multiplicative_inverse(e, phi):\n",
        "    d = 0\n",
        "    x1, x2 = 0, 1\n",
        "    y1, y2 = 1, 0\n",
        "    temp_phi = phi\n",
        "\n",
        "    while e > 0:\n",
        "        temp1 = temp_phi // e\n",
        "        temp2 = temp_phi - temp1 * e\n",
        "        temp_phi = e\n",
        "        e = temp2\n",
        "\n",
        "        x = x2 - temp1 * x1\n",
        "        y = y2 - temp1 * y1\n",
        "\n",
        "        x2 = x1\n",
        "        x1 = x\n",
        "        y2 = y1\n",
        "        y1 = y\n",
        "\n",
        "    if temp_phi == 1:\n",
        "        d = y2 + phi\n",
        "\n",
        "    return d\n",
        "\n",
        "def generate_keypair(p, q):\n",
        "    n = p * q\n",
        "    phi = (p - 1) * (q - 1)\n",
        "\n",
        "    e = random.randrange(1, phi)\n",
        "    g = gcd(e, phi)\n",
        "\n",
        "    while g != 1:\n",
        "        e = random.randrange(1, phi)\n",
        "        g = gcd(e, phi)\n",
        "\n",
        "    d = multiplicative_inverse(e, phi)\n",
        "\n",
        "    return ((e, n), (d, n))\n",
        "\n",
        "def encrypt(public_key, plaintext):\n",
        "    e, n = public_key\n",
        "    cipher = [pow(ord(char), e, n) for char in plaintext]\n",
        "    return cipher\n",
        "\n",
        "def decrypt(private_key, ciphertext):\n",
        "    d, n = private_key\n",
        "    plain = [chr(pow(char, d, n)) for char in ciphertext]\n",
        "    return ''.join(plain)\n",
        "\n",
        "# Example usage\n",
        "p = 61\n",
        "q = 53\n",
        "public_key, private_key = generate_keypair(p, q)\n",
        "plaintext = \"Hello, RSA!\"\n",
        "encrypted = encrypt(public_key, plaintext)\n",
        "decrypted = decrypt(private_key, encrypted)\n",
        "\n",
        "print(\"Original message:\", plaintext)\n",
        "print(\"Encrypted message:\", encrypted)\n",
        "print(\"Decrypted message:\", decrypted)\n"
      ],
      "metadata": {
        "colab": {
          "base_uri": "https://localhost:8080/"
        },
        "id": "NqPY05u7D8HU",
        "outputId": "d34ea83a-cdd2-41e2-f92d-df2b42b7c3e9"
      },
      "execution_count": 2,
      "outputs": [
        {
          "output_type": "stream",
          "name": "stdout",
          "text": [
            "Original message: Hello, RSA!\n",
            "Encrypted message: [233, 1973, 474, 474, 1048, 2109, 1188, 1382, 76, 19, 2387]\n",
            "Decrypted message: Hello, RSA!\n"
          ]
        }
      ]
    },
    {
      "cell_type": "markdown",
      "source": [
        "##2. ECC (Elliptic Curve Cryptography)\n",
        "\n",
        "Elliptic Curve Cryptography (ECC) is a type of public key cryptogrpahy that utilizes the mathematical properties of the eliptic curves to acheive the secure communication.ECC relies on complex mathematical equationson eliptic curves,which defines the geometric shapes. It is like RSA in terms of keys ECC have a pair of keys, a private and public key. ECC gives more security in smaller key lengths comparing to RSA\n",
        "\n",
        "\n",
        "###How ECC Works?\n",
        "\n",
        "###Key Generation\n",
        "\n",
        "**1. Elliptic Curves and Points:** The mathematical equation defines a specific eliiptic curve which is selected and in that cuve points can be represented by coordinates(x,y).\n",
        "\n",
        "**2. Public and Private Keys:** The private key can be taken as an random integer(d).The public key is a point on the curve calculated by multiplying a fixed point on the curve by the private key (Q = d * P).\n",
        "\n",
        "###ENCRYPTION\n",
        "\n",
        "**1. Message Prepration:** The message or data is converted in to numerical format that should be compatible with the chosen symmetric encryption algorithm.\n",
        "\n",
        "**2. Key Exchange:**  The sender creates a temporary secrect key (k) as a random point on the curve. Then they send their public key (Q) and the encrypted temporary key (E(k, Qpub)) to the recipient.The recipient uses their private key (d) to calculate the same temporary key (k = d * E(k, Qpub)).\n",
        "\n",
        "**3. Symmetric Encryption:**  Both the sender and recevier share the same temporary key (k). And this temporary sky is ued with an appropriate symmetric algorithm to encrypt the data or message. After the Encryption the encrypted message is sent with the information of the decryption.\n",
        "\n",
        "\n",
        "###DECRYPTION\n",
        "\n",
        "**1. Symmetric Decryption:** he recipient uses the shared temporary key (k) and the symmetric decryption algorithm to decrypt the received message.\n",
        "\n",
        "\n",
        "###Implementing the ECC\n",
        "\n",
        "\n",
        "\n",
        "\n"
      ],
      "metadata": {
        "id": "8ux3AQ1yD_37"
      }
    },
    {
      "cell_type": "code",
      "source": [
        "from cryptography.hazmat.primitives import hashes\n",
        "from cryptography.hazmat.primitives.asymmetric import ec\n",
        "from cryptography.hazmat.primitives.kdf.hkdf import HKDF\n",
        "from cryptography.hazmat.backends import default_backend\n",
        "from cryptography.hazmat.primitives import serialization\n",
        "from cryptography.hazmat.primitives.kdf.scrypt import Scrypt\n",
        "from cryptography.hazmat.primitives import hashes, hmac\n",
        "from cryptography.hazmat.primitives.kdf.pbkdf2 import PBKDF2HMAC\n",
        "from cryptography.hazmat.primitives.kdf.hkdf import HKDFExpand\n",
        "import base64\n",
        "\n",
        "private_key = ec.generate_private_key(ec.SECP384R1(), default_backend())\n",
        "public_key = private_key.public_key()\n",
        "\n",
        "public_key_bytes = public_key.public_bytes(\n",
        "    encoding=serialization.Encoding.PEM,\n",
        "    format=serialization.PublicFormat.SubjectPublicKeyInfo\n",
        ")\n",
        "\n",
        "other_public_key = serialization.load_pem_public_key(public_key_bytes, backend=default_backend())\n",
        "\n",
        "shared_secret = private_key.exchange(ec.ECDH(), other_public_key)\n",
        "\n",
        "hkdf = HKDFExpand(\n",
        "    algorithm=hashes.SHA256(),\n",
        "    length=32,\n",
        "    info=None,\n",
        "    backend=default_backend()\n",
        ")\n",
        "symmetric_key = hkdf.derive(shared_secret)\n",
        "\n",
        "from cryptography.fernet import Fernet\n",
        "\n",
        "fernet = Fernet(base64.urlsafe_b64encode(symmetric_key))\n",
        "\n",
        "message = b\"Data encryption using ECC.\"\n",
        "encrypted_message = fernet.encrypt(message)\n",
        "print(f\"Encrypted message: {encrypted_message}\")\n",
        "\n",
        "decrypted_message = fernet.decrypt(encrypted_message)\n",
        "print(f\"Decrypted message: {decrypted_message.decode()}\")\n"
      ],
      "metadata": {
        "colab": {
          "base_uri": "https://localhost:8080/"
        },
        "id": "IcCjak48RExS",
        "outputId": "dac3bbd1-feb4-4f2b-b5c3-b50941544820"
      },
      "execution_count": 6,
      "outputs": [
        {
          "output_type": "stream",
          "name": "stdout",
          "text": [
            "Encrypted message: b'gAAAAABmMoAr5yub4Ro9JNIlGd3Vqc4DHiEQYL0DfGwjfKm3HHX7YLu9oepVallzliUlbPPQlylsBkKeWpvv5qGCu0plvU6dyYCo0QZv2lzkPwu9z6WvDFw='\n",
            "Decrypted message: Data encryption using ECC.\n"
          ]
        }
      ]
    },
    {
      "cell_type": "markdown",
      "source": [
        "# Hash Function\n",
        "\n",
        "A hash function is an mathematical function that takes a input of arbitary size such as messages , data and files and generate a fixed-length output called hash value. The ouput is a unique fingerprint of input data. Hash functions are\n",
        "commonly using in password manager , digital signatures and others. Examples for hash functions are **MD5 (Message Digest Algorithm)**, **SHA-1(Secure Hash Algorithm 1)** ,**SHA-256 (Secure Hash Algorithm 256)**  and **BLAKE2**.\n",
        "\n",
        "\n",
        "###SHA-256(Secure Hash Algorithm 256)\n",
        "\n",
        "SHA-256 is an cryptographic hash function developed by NSA and published in 2001. It is an one way hash function. It takes an input of any size  and generates a fixed-length output of 256 bits. The output is called hash value\n",
        "\n",
        "\n",
        "###Working of SHA-256\n",
        "\n",
        "\n",
        "1. **Message Padding:** The input message is padded, if needed, to ensure that the length is a multiple of 512-bits (64 bytes).\n",
        "2. **Initital Hash Values:** SHA-256 uses eight initial hash values (often called as 'constants'). Constants are 32-bit words derived from the first 32 bits of the fractional parts of the square roots of the first 8 prime numbers.\n",
        "3. **Message Processing:** The padded message is processed in blocks of 512 bits each. Each block is further divided into 16 32-bit words, forming a 64-entry message schedule array.\n",
        "4. **Hash Computation:** SHA-256 operates on a 64-entry message schedule array, using a series of bitwise operations (AND, OR, XOR, NOT), addition modulo 2^32, and cyclic rotations to update the hash value through a total of 64 rounds.\n",
        "5. **Final Hash Value:** After processing all blocks, the final hash value is the concatenation of the eight 32-bit hash values obtained from the final rounds of computation.\n",
        "\n",
        "\n",
        "####Implementation\n",
        "\n"
      ],
      "metadata": {
        "id": "3vST4KlLROhl"
      }
    },
    {
      "cell_type": "code",
      "source": [
        "from hashlib import sha256\n",
        "\n",
        "def sha256_simplified(message):\n",
        "  \"\"\"\n",
        "  Simplified SHA-256 function using hashlib library.\n",
        "  \"\"\"\n",
        "  message_bytes = message.encode()\n",
        "\n",
        "  hash_obj = sha256()\n",
        "\n",
        "  hash_obj.update(message_bytes)\n",
        "\n",
        "  hash_digest = hash_obj.hexdigest()\n",
        "\n",
        "  return hash_digest\n",
        "\n",
        "message = \"This is a secret message.\"\n",
        "hash_value = sha256_simplified(message)\n",
        "\n",
        "print(f\"SHA-256 hash: {hash_value}\")\n"
      ],
      "metadata": {
        "colab": {
          "base_uri": "https://localhost:8080/"
        },
        "id": "yio_m160W5RK",
        "outputId": "9ed646e3-cbc0-4fa1-b23c-c02407cb1a3b"
      },
      "execution_count": 7,
      "outputs": [
        {
          "output_type": "stream",
          "name": "stdout",
          "text": [
            "SHA-256 hash: ec4a9915084f958ddcd2902d191beda6c0e36dbecc1fd5dbc41dd691fe95d7d6\n"
          ]
        }
      ]
    },
    {
      "cell_type": "markdown",
      "source": [
        "# CONCLUSION\n",
        "\n",
        "Hashing algorithms and encryption are essential instruments for data security. Information is jumbled using a secret key during encryption, so only those with permission can decipher it. In contrast, hash functions provide distinct fingerprints, or hash values, for each piece of data, making it possible to efficiently verify the integrity of the data. Together, they make up a formidable team: hash functions verify the authenticity of data while encryption safeguards its confidentiality. These two components are essential for safe communication, data storage, and upholding public confidence in digital systems. The necessity will determine which technique is best: hash functions for data integrity verification and encryption for confidentiality.\n",
        "\n",
        "\n",
        "\n",
        "\n"
      ],
      "metadata": {
        "id": "7wgqEjVHW8Sf"
      }
    }
  ]
}